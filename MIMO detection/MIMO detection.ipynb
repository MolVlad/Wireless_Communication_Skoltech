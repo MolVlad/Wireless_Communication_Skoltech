{
 "cells": [
  {
   "cell_type": "code",
   "execution_count": 1,
   "metadata": {},
   "outputs": [],
   "source": [
    "import numpy as np\n",
    "import matplotlib.pyplot as plt\n",
    "%matplotlib inline\n",
    "from numpy.linalg import inv, norm"
   ]
  },
  {
   "cell_type": "markdown",
   "metadata": {},
   "source": [
    "# Practical MIMO detection schemes"
   ]
  },
  {
   "cell_type": "code",
   "execution_count": 2,
   "metadata": {},
   "outputs": [],
   "source": [
    " # Generate complex-valued noise\n",
    "def gen_noise(N, snr_db):\n",
    "    # Do not forget np.sqrt(1/2) factor for CN circular noise!\n",
    "    sigma = np.sqrt(1 / (2 * 10 ** (snr_db / 10)))\n",
    "    z_re = np.random.normal(0, 1, size=(N,))\n",
    "    z_im = np.random.normal(0, 1, size=(N,))\n",
    "    return (z_re + 1j * z_im) * sigma  # The total power is 2 * sigma^2\n",
    "\n",
    "\n",
    "def simulate(snr_db_range, max_errors, experiment_func):\n",
    "    p_e = np.zeros(snr_db_range.shape)\n",
    "    n_points = p_e.shape[0]\n",
    "    # Run simulations:\n",
    "    for i in range(n_points):\n",
    "        snr_db = snr_db_range[i]\n",
    "        n_errors = 0.0\n",
    "        n_experiments = 0.0\n",
    "        while n_errors < max_errors:\n",
    "            n_errors += experiment_func(snr_db)\n",
    "            n_experiments += 1\n",
    "        p_e[i] = n_errors / n_experiments\n",
    "    # Plot results:\n",
    "    plt.plot(snr_db_range, p_e)\n",
    "    plt.yscale('log')\n",
    "    plt.xlabel('Signal-to-noise ratio [dB]')\n",
    "    plt.ylabel('Error rate')\n",
    "    plt.grid()\n",
    "    # Hide plt.show() to add more data on a single figure\n",
    "    # plt.show()"
   ]
  },
  {
   "cell_type": "markdown",
   "metadata": {},
   "source": [
    "### MIMO channel routines\n",
    "* Use np.matrix() and matrix (not element-wise with proadcasting) multiplication"
   ]
  },
  {
   "cell_type": "markdown",
   "metadata": {},
   "source": [
    "$$\n",
    "\\underset{N_R\\times 1}{y} = \\underset{N_R\\times N_T}{H}\\times\\underset{N_T\\times 1}{x} +\\underset{N_R\\times 1}{z} \n",
    "$$\n",
    "\n",
    "where $N_R$ - number of receiver antennas, $N_T$ - number of transmitting antennas."
   ]
  },
  {
   "cell_type": "markdown",
   "metadata": {},
   "source": [
    "Consider BPSK: $0 \\rightarrow 1,\\;\\;1 \\rightarrow -1$"
   ]
  },
  {
   "cell_type": "code",
   "execution_count": 3,
   "metadata": {},
   "outputs": [],
   "source": [
    "def get_H_rayleigh(n_tx, n_rx):\n",
    "    return np.matrix(np.random.randn(n_rx, n_tx) + 1j * np.random.randn(n_rx, n_tx)) / np.sqrt(2 * n_tx)\n",
    "\n",
    "\n",
    "# BPSK V-BLAST transmitter, CSI known at receiver only - equal power allocation\n",
    "def generate_received_signal(n_tx, n_rx, snr_db):\n",
    "    H = get_H_rayleigh(n_tx, n_rx)\n",
    "    x = np.random.randint(0, 2, size=n_tx,)\n",
    "    y = H * np.matrix(1 - 2 * x).T + np.matrix(gen_noise(n_rx, snr_db)).T\n",
    "    return x, y, H"
   ]
  },
  {
   "cell_type": "markdown",
   "metadata": {},
   "source": [
    "## Maximum likelihood MIMO detection routines\n",
    "\n",
    "$$\n",
    "\\newcommand\\norm[1]{\\left\\lVert#1\\right\\rVert}\n",
    "\\hat{x} = argmin \\norm{y - Hx}^2 \n",
    "$$"
   ]
  },
  {
   "cell_type": "code",
   "execution_count": 4,
   "metadata": {},
   "outputs": [],
   "source": [
    "# Convert integer to binary array\n",
    "def de2bi(val, out_len):\n",
    "    val_array = [int(x) for x in list('{0:1b}'.format(val))]\n",
    "    return [0] * (out_len - len(val_array)) + val_array\n",
    "\n",
    "# Generate 2**N possible transmitted combinations\n",
    "def gen_iwd_book(N):\n",
    "    n_cwd = 2 ** N\n",
    "    iwd_book = np.zeros((2 ** N, N))\n",
    "    for i in range(n_cwd):\n",
    "        iwd_book[i, :] = de2bi(i, N)\n",
    "    return iwd_book\n",
    "\n",
    "\n",
    "# Find the closest point to the received signal among all possible\n",
    "# combinations transmitted\n",
    "def ml_detector(snr_db, n_tx, n_rx):\n",
    "    x, y, H = generate_received_signal(n_tx, n_rx, snr_db)\n",
    "\n",
    "    iwd_book = gen_iwd_book(n_tx)\n",
    "    iwd_book_bpsk = np.matrix(1 - 2 * iwd_book).T\n",
    "\n",
    "    y_vec = H * iwd_book_bpsk\n",
    "    distance = np.linalg.norm(y_vec - y, axis=0) ** 2\n",
    "    iwd_best_id = np.argmin(distance)\n",
    "    x_hat = iwd_book[iwd_best_id, :]\n",
    "    return np.mean(x_hat != x)"
   ]
  },
  {
   "cell_type": "markdown",
   "metadata": {},
   "source": [
    "## MRC - Maximum Ratio Combining (matched filter)\n",
    "\n",
    "$$\n",
    "\\underset{N_T\\times 1}{\\hat{x}} = \\underset{N_T\\times N_R}{G} \\times \\underset{N_R\\times 1}{y}\n",
    "$$\n",
    "\n",
    "$$\n",
    "\\underset{N_T\\times N_R}{G} = \\underset{N_T\\times N_R}{H^*}\n",
    "$$"
   ]
  },
  {
   "cell_type": "code",
   "execution_count": 7,
   "metadata": {},
   "outputs": [],
   "source": [
    "def mrc_detector(snr_db, n_tx, n_rx):\n",
    "    x, y, H = generate_received_signal(n_tx, n_rx, snr_db)\n",
    "\n",
    "    G = H.H\n",
    "    \n",
    "    x_hat = ((G * y).real < 0).astype(int).T\n",
    "\n",
    "    return np.mean(x_hat != x)"
   ]
  },
  {
   "cell_type": "markdown",
   "metadata": {},
   "source": [
    "## ZF - Zero Forcing (mean squared error, decorrelator)\n",
    "\n",
    "$$\n",
    "\\underset{N_T\\times 1}{\\hat{x}} = \\underset{N_T\\times N_R}{G} \\times \\underset{N_R\\times 1}{y}\n",
    "$$\n",
    "\n",
    "$$\n",
    "\\underset{N_T\\times N_R}{G} = \\big( \\underset{N_T\\times N_R}{H^*} \\times \\underset{N_R\\times N_T}{H}\\big)^{-1} \\underset{N_T\\times N_R}{H^*}\n",
    "$$"
   ]
  },
  {
   "cell_type": "code",
   "execution_count": 8,
   "metadata": {},
   "outputs": [],
   "source": [
    "def zf_detector(snr_db, n_tx, n_rx):\n",
    "    x, y, H = generate_received_signal(n_tx, n_rx, snr_db)\n",
    "\n",
    "    G = inv(H.H * H) * H.H\n",
    "    \n",
    "    x_hat = ((G * y).real < 0).astype(int).T\n",
    "\n",
    "    return np.mean(x_hat != x)"
   ]
  },
  {
   "cell_type": "markdown",
   "metadata": {},
   "source": [
    "\n",
    "\n",
    "## MMSE - Minimum Mean Square Error\n",
    "\n",
    "$$\n",
    "\\underset{N_T\\times 1}{\\hat{x}} = \\underset{N_T\\times N_R}{G} \\times \\underset{N_R\\times 1}{y}\n",
    "$$\n",
    "\n",
    "$$\n",
    "\\underset{N_T\\times N_R}{G} = \\underset{N_T\\times N_R}{H^*} \\big[\\underset{N_R\\times N_T}{H}\\times\\underset{N_T\\times N_R}{H^*}+N_0 \\underset{N_R\\times N_R}{I}  \\big] ^{-1}\n",
    "$$\n",
    "\n",
    "where $N_0$ - spectral noise power density"
   ]
  },
  {
   "cell_type": "code",
   "execution_count": 9,
   "metadata": {},
   "outputs": [],
   "source": [
    "def mmse_detector(snr_db, n_tx, n_rx):\n",
    "    x, y, H = generate_received_signal(n_tx, n_rx, snr_db)\n",
    "\n",
    "    sigma = np.sqrt(1 / (2 * 10 ** (snr_db / 10)))\n",
    "    I_N = np.identity(n_rx) * 2 * (sigma ** 2)\n",
    "    G = H.H * inv(H*H.H + I_N)\n",
    "    \n",
    "    x_hat = ((G * y).real < 0).astype(int).T\n",
    "    \n",
    "    return np.mean(x_hat != x)"
   ]
  },
  {
   "cell_type": "markdown",
   "metadata": {},
   "source": [
    "\n",
    "\n",
    "## MMSE-SIC - Minimum Mean Square Error, Successive interference cancellation\n",
    "\n",
    "$$\n",
    "\\underset{N_T\\times N_R}{G} = \\underset{N_T\\times N_R}{H^*} \\big[\\underset{N_R\\times N_T}{H}\\times\\underset{N_T\\times N_R}{H^*}+N_0 \\underset{N_R\\times N_R}{I}  \\big] ^{-1}\n",
    "$$\n",
    "\n",
    "$$\n",
    "\\underset{N_R\\times 1}{y} = \\underset{N_R\\times N_T}{H}\\times\\underset{N_T\\times 1}{x} +\\underset{N_R\\times 1}{z}\n",
    "$$\n",
    "\n",
    "\n",
    "\n"
   ]
  },
  {
   "cell_type": "markdown",
   "metadata": {},
   "source": [
    "<center>\n",
    "$h_i$ - columns of $H$:\n",
    "</center>\n",
    "\n",
    "$$\n",
    "\\underset{N_R\\times N_T}{H} = \\big[\n",
    "\\underset{N_R\\times 1}{h_1} \\; \\underset{N_R\\times 1}{h_2} \\;\\ldots\\; \\underset{N_R\\times 1}{h_{N_T}}\n",
    "\\big]\n",
    "$$"
   ]
  },
  {
   "cell_type": "markdown",
   "metadata": {},
   "source": [
    "$$\n",
    "y = h_k x_k+\\sum_{i=1,i\\neq k}^{N_t}h_i x_i + z\n",
    "$$"
   ]
  },
  {
   "cell_type": "markdown",
   "metadata": {},
   "source": [
    "<center>\n",
    "$g_k$ - rows of $G$:\n",
    "</center>\n",
    "\n",
    "$$\n",
    "\\underset{N_R\\times N_T}{G^T} = \\big[\n",
    "\\underset{N_R\\times 1}{g_1^T} \\; \\underset{N_R\\times 1}{g_2^T} \\;\\ldots\\; \\underset{N_R\\times 1}{g_{N_T}^T}\n",
    "\\big]\n",
    "$$"
   ]
  },
  {
   "cell_type": "markdown",
   "metadata": {},
   "source": [
    "$$\n",
    "\\hat{x}_k = \\underset{1 \\times N_R}{g_k} \\times \\underset{N_R\\times 1}{y} = \\underbrace{g_k h_k}_{\\sqrt{P_R}} x_k + \\underbrace{\\sum_{i=1,i\\neq k}^{N_t}g_k h_i}_{\\sqrt{P_I}} x_i + \\underbrace{g_k z}_{\\sqrt{P_N}}\n",
    "$$\n",
    "\n",
    "where $P_R$ - signal power, $P_I$ - interference power, $P_N$ - noise power.\n",
    "\n",
    "Thus, Signal to Interference + Noise Ratio (SINR) for symbol $k$:\n",
    "$$SINR = \\frac{P_R}{P_I+P_N}$$"
   ]
  },
  {
   "cell_type": "markdown",
   "metadata": {},
   "source": [
    "The idea of successive noise cancellation is the following:\n",
    "\n",
    "1) find $k$ for which SINR is the maximum\n",
    "\n",
    "2) decode $k$-th symbol:\n",
    "$\n",
    "\\hat{x}_k = g_k y \n",
    "$\n",
    "\n",
    "3) cancel interference from $k$-th symbol: $\\hat{y} = y - \\hat{x}_k h_k$\n",
    "\n",
    "4) Drop $k$-th column from $H$ and $k$-th row from $G$\n",
    "\n",
    "5) repeat steps 1-4 untill all symbols are decoded"
   ]
  },
  {
   "cell_type": "code",
   "execution_count": 10,
   "metadata": {},
   "outputs": [],
   "source": [
    "def mmse_sic_detector(snr_db, n_tx, n_rx):\n",
    "    x, y, H = generate_received_signal(n_tx, n_rx, snr_db)\n",
    "\n",
    "    N0 = 1 / (10 ** (snr_db / 10))\n",
    "    I_N = np.identity(n_rx) * N0\n",
    "    G = H.H * inv(H*H.H + I_N)\n",
    "\n",
    "    x_hat = np.zeros((n_tx,))\n",
    "    is_x_hat_k_full = np.zeros((n_tx,)).astype(bool)\n",
    "\n",
    "    for iteration in range(n_tx):\n",
    "        n_symbols = n_tx - iteration\n",
    "        \n",
    "        SINR = np.zeros((n_symbols,))\n",
    "        for k in range(n_symbols):\n",
    "            g_k = G[k]\n",
    "            P_N = N0 * (norm(g_k) ** 2)\n",
    "            P_I = 0\n",
    "            for i in range(n_symbols):\n",
    "                h_i = H[:,i]\n",
    "                if i == k:\n",
    "                    P_R = norm(g_k*h_i) ** 2\n",
    "                else:\n",
    "                    P_I += norm(g_k*h_i) ** 2\n",
    "\n",
    "            SINR[k] = P_R / (P_I + P_N)\n",
    "\n",
    "        k = np.argmax(SINR)\n",
    "\n",
    "        g_k = G[k]\n",
    "        x_hat_k = ((g_k * y).real < 0).astype(int)\n",
    "\n",
    "        y = y - (1 - 2 * np.mean(x_hat_k)) * H[:,k] # interference cancellation\n",
    "\n",
    "        # drop k-th column in H and row in G\n",
    "        left = np.ones((n_symbols,)).astype(bool)\n",
    "        left[k] = False\n",
    "        H = H[:,left]\n",
    "        G = G[left,:]\n",
    "        \n",
    "        absolute_k = k\n",
    "        p = 0\n",
    "        for j in range(k+1):\n",
    "            while is_x_hat_k_full[p]:\n",
    "                absolute_k += 1\n",
    "                p += 1\n",
    "            p += 1\n",
    "\n",
    "        is_x_hat_k_full[absolute_k] = True\n",
    "        x_hat[absolute_k] = x_hat_k\n",
    "\n",
    "    return np.mean(x_hat != x)"
   ]
  },
  {
   "cell_type": "markdown",
   "metadata": {},
   "source": [
    "## Numerical experiments"
   ]
  },
  {
   "cell_type": "code",
   "execution_count": 14,
   "metadata": {},
   "outputs": [
    {
     "name": "stdout",
     "output_type": "stream",
     "text": [
      "Evaluating the ML detector\n",
      "Evaluating the ZF detector\n",
      "Evaluating the MMSE detector\n",
      "Evaluating the MMSE-SIC detector\n",
      "Evaluating the MRC detector\n"
     ]
    },
    {
     "data": {
      "image/png": "[encoded data removed]",
      "text/plain": [
       "<Figure size 432x288 with 1 Axes>"
      ]
     },
     "metadata": {
      "needs_background": "light"
     },
     "output_type": "display_data"
    }
   ],
   "source": [
    "snr_range = np.arange(-15, 7)\n",
    "n_tx = 4  # Transmitter antenna count\n",
    "n_rx = 8  # Receiver antenna count\n",
    "\n",
    "n_errors = 100 # Maximum number of errors\n",
    "\n",
    "print('Evaluating the ML detector')\n",
    "simulate(snr_range, n_errors,\n",
    "    lambda x: ml_detector(x, n_tx, n_rx)\n",
    ")\n",
    "\n",
    "print('Evaluating the ZF detector')\n",
    "simulate(snr_range, n_errors,\n",
    "    lambda x: zf_detector(x, n_tx, n_rx)\n",
    ")\n",
    "\n",
    "print('Evaluating the MMSE detector')\n",
    "simulate(snr_range, n_errors,\n",
    "    lambda x: mmse_detector(x, n_tx, n_rx)\n",
    ")\n",
    "\n",
    "print('Evaluating the MMSE-SIC detector')\n",
    "simulate(snr_range, n_errors,\n",
    "    lambda x: mmse_sic_detector(x, n_tx, n_rx)\n",
    ")\n",
    "\n",
    "print('Evaluating the MRC detector')\n",
    "simulate(snr_range, n_errors,\n",
    "    lambda x: mrc_detector(x, n_tx, n_rx)\n",
    ")\n",
    "\n",
    "plt.legend(['ML', 'ZF', 'MMSE', 'MMSE-SIC', 'MRC'])\n",
    "plt.grid()"
   ]
  },
  {
   "cell_type": "code",
   "execution_count": null,
   "metadata": {},
   "outputs": [],
   "source": []
  }
 ],
 "metadata": {
  "kernelspec": {
   "display_name": "Python 3 (ipykernel)",
   "language": "python",
   "name": "python3"
  },
  "language_info": {
   "codemirror_mode": {
    "name": "ipython",
    "version": 3
   },
   "file_extension": ".py",
   "mimetype": "text/x-python",
   "name": "python",
   "nbconvert_exporter": "python",
   "pygments_lexer": "ipython3",
   "version": "3.7.9"
  }
 },
 "nbformat": 4,
 "nbformat_minor": 4
}
