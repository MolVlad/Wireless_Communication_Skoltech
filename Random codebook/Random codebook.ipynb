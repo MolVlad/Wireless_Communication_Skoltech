{
 "cells": [
  {
   "cell_type": "code",
   "execution_count": 11,
   "metadata": {},
   "outputs": [],
   "source": [
    "import numpy as np\n",
    "import matplotlib.pyplot as plt\n",
    "%matplotlib inline\n",
    "from numpy.random import randn, randint"
   ]
  },
  {
   "cell_type": "code",
   "execution_count": 12,
   "metadata": {},
   "outputs": [],
   "source": [
    "# Run simulation once\n",
    "def simulate_one_run(snr_db, max_errors, experiment_func):\n",
    "    n_errors = 0.0\n",
    "    n_experiments = 0.0\n",
    "    while n_errors < max_errors:\n",
    "        n_errors += experiment_func(snr_db)\n",
    "        n_experiments += 1\n",
    "    return n_errors / n_experiments"
   ]
  },
  {
   "cell_type": "code",
   "execution_count": 13,
   "metadata": {},
   "outputs": [],
   "source": [
    "# Generate complex-valued noise\n",
    "def gen_noise(N, snr_db):\n",
    "    # Here we assume that signal has power 1\n",
    "    sigma = np.sqrt(1 / (2 * 10 ** (snr_db / 10)))\n",
    "    z_re = np.random.normal(0, 1, size=(N,))\n",
    "    z_im = np.random.normal(0, 1, size=(N,))\n",
    "    \n",
    "    return (z_re + 1j * z_im) * sigma"
   ]
  },
  {
   "cell_type": "code",
   "execution_count": 14,
   "metadata": {},
   "outputs": [],
   "source": [
    "# Generate codebook with R=1/2 for provided k\n",
    "def generate_codebook(k):\n",
    "    # Codebook is matrix 2^k x 2k\n",
    "    # Elements are drawn from CN(0,1)\n",
    "    codebook = randn(2 ** k, 2 * k) + 1j * randn(2 ** k, 2 * k)\n",
    "    # Compute length of each codeword (row)\n",
    "    lens = np.sqrt(np.sum(abs(codebook) ** 2, axis=1))\n",
    "    assert(codebook.shape[0] == 2 ** k)\n",
    "    # Normalize each codeword power to n^2, where n=2k (for R=1/2) - code space dimension\n",
    "    # After this normalization each sample in each vector has average power 1\n",
    "    for i in range(codebook.shape[0]):\n",
    "        codebook[i] = codebook[i] / lens[i] * np.sqrt(2 * k)\n",
    "    \n",
    "    return codebook"
   ]
  },
  {
   "cell_type": "code",
   "execution_count": 15,
   "metadata": {},
   "outputs": [],
   "source": [
    "# Experiment function for random coding\n",
    "def random_coding(snr_db, k):\n",
    "    # Generate codebook\n",
    "    codebook = generate_codebook(k)\n",
    "\n",
    "    # Generate bits\n",
    "    bits = randint(0, 2 ** k)\n",
    "    # Choose codeword from the codebook\n",
    "    x = codebook[bits]\n",
    "    assert(x.shape[0] == 2 * k)\n",
    "\n",
    "    # Generate noise with corresponding snr in dB\n",
    "    z = gen_noise(2 * k, snr_db)\n",
    "    assert(z.shape[0] == 2 * k)\n",
    "\n",
    "    # Model AWGN channel\n",
    "    y = x + z\n",
    "    \n",
    "    # Decode according to maximum likelihood principle\n",
    "    decoded_bits = np.argmin(np.sqrt(np.sum(abs(codebook - y) ** 2, axis=1)))\n",
    "    assert(np.sqrt(np.sum(abs(codebook - y) ** 2, axis=1)).shape[0] == 2 ** k)\n",
    "    \n",
    "    # Return block error rate for this single experiment (0 or 1)\n",
    "    return float(decoded_bits != bits)"
   ]
  },
  {
   "cell_type": "code",
   "execution_count": 16,
   "metadata": {},
   "outputs": [],
   "source": [
    "# Plot results for different k from \"data\" dictionary\n",
    "def plot_results(data):\n",
    "    markers = {2:\"v\", 4:\"o\", 8:\"d\", 16:\"x\"}\n",
    "    legend = []\n",
    "\n",
    "    for k in list(data.keys()):\n",
    "        lists = sorted(data[k].items())\n",
    "        x, y = zip(*lists)\n",
    "\n",
    "        plt.plot(x, y, marker=markers[k])\n",
    "        legend.append(('Random coding, k=%d' % k))\n",
    "\n",
    "        \n",
    "    plt.yscale('log')\n",
    "    plt.xlabel('Signal-to-noise ratio [dB]')\n",
    "    plt.ylabel('Block Error Rate')\n",
    "    plt.grid()\n",
    "    plt.yticks([1,1e-1,1e-2])\n",
    "    plt.ylim([1e-2,1])\n",
    "    plt.legend(legend)\n",
    "    plt.show()"
   ]
  },
  {
   "cell_type": "code",
   "execution_count": 8,
   "metadata": {},
   "outputs": [],
   "source": [
    "# Set k range and SNR range to be used in simulation\n",
    "k_vs_snr_db_range = {2: np.arange(-8, 5.5, 0.5), 4: np.arange(-8, 2.5, 0.5), \\\n",
    "            8: np.arange(-8, 1.5, 0.5), 16: np.arange(-8, 0, 0.5)}\n",
    "\n",
    "data = dict()\n",
    "# Run simulation for different k\n",
    "for k in list(k_vs_snr_db_range.keys()):\n",
    "    data[k] = dict()\n",
    "    for snr_db in k_vs_snr_db_range[k]:\n",
    "        data[k][snr_db] = simulate_one_run(\n",
    "            snr_db, # SNR value\n",
    "            10, # Maximum error count\n",
    "            lambda x: random_coding(x, k) # Experiment function\n",
    "        )"
   ]
  },
  {
   "cell_type": "code",
   "execution_count": 17,
   "metadata": {},
   "outputs": [
    {
     "data": {
      "image/png": "[encoded data removed]",
      "text/plain": [
       "<Figure size 432x288 with 1 Axes>"
      ]
     },
     "metadata": {
      "needs_background": "light"
     },
     "output_type": "display_data"
    }
   ],
   "source": [
    "plot_results(data)"
   ]
  },
  {
   "cell_type": "code",
   "execution_count": null,
   "metadata": {},
   "outputs": [],
   "source": []
  },
  {
   "cell_type": "code",
   "execution_count": null,
   "metadata": {},
   "outputs": [],
   "source": []
  }
 ],
 "metadata": {
  "kernelspec": {
   "display_name": "Python 3 (ipykernel)",
   "language": "python",
   "name": "python3"
  },
  "language_info": {
   "codemirror_mode": {
    "name": "ipython",
    "version": 3
   },
   "file_extension": ".py",
   "mimetype": "text/x-python",
   "name": "python",
   "nbconvert_exporter": "python",
   "pygments_lexer": "ipython3",
   "version": "3.7.9"
  }
 },
 "nbformat": 4,
 "nbformat_minor": 4
}
